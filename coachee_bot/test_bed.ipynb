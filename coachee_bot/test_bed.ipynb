{
 "cells": [
  {
   "cell_type": "code",
   "execution_count": 933,
   "metadata": {
    "collapsed": false
   },
   "outputs": [
    {
     "data": {
      "text/plain": [
       "'/Users/Alex/Dropbox/Programming/ProjectIndependence/notadiet'"
      ]
     },
     "execution_count": 933,
     "metadata": {},
     "output_type": "execute_result"
    }
   ],
   "source": [
    "pwd"
   ]
  },
  {
   "cell_type": "code",
   "execution_count": 5,
   "metadata": {
    "collapsed": true
   },
   "outputs": [
    {
     "data": {
      "text/plain": [
       "{'outputs': [{'created_at': '2018-08-23T12:06:21.365813625Z',\n",
       "   'data': {'concepts': [{'app_id': 'main',\n",
       "      'id': 'ai_wBCrHPDb',\n",
       "      'name': 'blatt',\n",
       "      'value': 0.99199337},\n",
       "     {'app_id': 'main',\n",
       "      'id': 'ai_786Zr311',\n",
       "      'name': 'keine Person',\n",
       "      'value': 0.98295903},\n",
       "     {'app_id': 'main',\n",
       "      'id': 'ai_3PlgVmlN',\n",
       "      'name': 'Lebensmittel',\n",
       "      'value': 0.9820168},\n",
       "     {'app_id': 'main',\n",
       "      'id': 'ai_LpcgM7r5',\n",
       "      'name': 'gemüse',\n",
       "      'value': 0.97788393},\n",
       "     {'app_id': 'main',\n",
       "      'id': 'ai_6jpGRJmm',\n",
       "      'name': 'pflanze',\n",
       "      'value': 0.97056437},\n",
       "     {'app_id': 'main',\n",
       "      'id': 'ai_xtgFN8Q0',\n",
       "      'name': 'medizin',\n",
       "      'value': 0.955479},\n",
       "     {'app_id': 'main',\n",
       "      'id': 'ai_VRrpDkps',\n",
       "      'name': 'anbauen',\n",
       "      'value': 0.9518671},\n",
       "     {'app_id': 'main',\n",
       "      'id': 'ai_X3WXCcBD',\n",
       "      'name': 'kraut',\n",
       "      'value': 0.94249594},\n",
       "     {'app_id': 'main',\n",
       "      'id': 'ai_tHfSsS2c',\n",
       "      'name': 'gewürz',\n",
       "      'value': 0.92501545},\n",
       "     {'app_id': 'main',\n",
       "      'id': 'ai_dmgcs8C4',\n",
       "      'name': 'basilikum',\n",
       "      'value': 0.9224473},\n",
       "     {'app_id': 'main',\n",
       "      'id': 'ai_DwCD1LMv',\n",
       "      'name': 'spinat',\n",
       "      'value': 0.90827644},\n",
       "     {'app_id': 'main',\n",
       "      'id': 'ai_zn9d6dKX',\n",
       "      'name': 'aromatisch',\n",
       "      'value': 0.8658687},\n",
       "     {'app_id': 'main',\n",
       "      'id': 'ai_xzqBDlmV',\n",
       "      'name': 'Zutaten',\n",
       "      'value': 0.86461926},\n",
       "     {'app_id': 'main',\n",
       "      'id': 'ai_mZJ4nprg',\n",
       "      'name': 'frische',\n",
       "      'value': 0.84353113},\n",
       "     {'app_id': 'main',\n",
       "      'id': 'ai_KXNqVd5F',\n",
       "      'name': 'kochen',\n",
       "      'value': 0.8389745},\n",
       "     {'app_id': 'main',\n",
       "      'id': 'ai_5DSJM9t2',\n",
       "      'name': 'wachstum',\n",
       "      'value': 0.8342596},\n",
       "     {'app_id': 'main',\n",
       "      'id': 'ai_PHZfVrMB',\n",
       "      'name': 'salbei',\n",
       "      'value': 0.83214384},\n",
       "     {'app_id': 'main',\n",
       "      'id': 'ai_5QSwLDhX',\n",
       "      'name': 'majoran',\n",
       "      'value': 0.8306736},\n",
       "     {'app_id': 'main',\n",
       "      'id': 'ai_5WfQcbMp',\n",
       "      'name': 'blume',\n",
       "      'value': 0.8280498},\n",
       "     {'app_id': 'main',\n",
       "      'id': 'ai_0mCQLwrm',\n",
       "      'name': 'gesund',\n",
       "      'value': 0.82804847}]},\n",
       "   'id': '46a1c9f537034ec0802c476293a57ad6',\n",
       "   'input': {'data': {'image': {'url': 'http://s0288.pythonanywhere.com/media/415604082_foto_None_2018-05-15_2'}},\n",
       "    'id': '6148f297df534d2ba295237d021bdc71'},\n",
       "   'model': {'app_id': 'main',\n",
       "    'created_at': '2016-03-09T17:11:39.608845Z',\n",
       "    'display_name': 'General',\n",
       "    'id': 'aaa03c23b3724a16a56b629203edc62c',\n",
       "    'model_version': {'created_at': '2016-07-13T01:19:12.147644Z',\n",
       "     'id': 'aa9ca48295b37401f8af92ad1af0d91d',\n",
       "     'status': {'code': 21100, 'description': 'Model trained successfully'}},\n",
       "    'name': 'general-v1.3',\n",
       "    'output_info': {'message': 'Show output_info with: GET /models/{model_id}/output_info',\n",
       "     'type': 'concept',\n",
       "     'type_ext': 'concept'}},\n",
       "   'status': {'code': 10000, 'description': 'Ok'}}],\n",
       " 'status': {'code': 10000, 'description': 'Ok'}}"
      ]
     },
     "execution_count": 5,
     "metadata": {},
     "output_type": "execute_result"
    }
   ],
   "source": [
    "from clarifai.rest import ClarifaiApp\n",
    "import config\n",
    "\n",
    "app = ClarifaiApp(api_key=config.CLARIFY)\n",
    "\n",
    "# get the general model\n",
    "model = app.models.get(\"general-v1.3\")\n",
    "\n",
    "# predict with the model\n",
    "model.predict_by_url(url='http://s0288.pythonanywhere.com/media/415604082_foto_None_2018-05-15_2')\n"
   ]
  },
  {
   "cell_type": "code",
   "execution_count": 5,
   "metadata": {
    "collapsed": false
   },
   "outputs": [],
   "source": [
    "url = \"http://s0288.pythonanywhere.com/static/profiles/profile_415604082.html\""
   ]
  },
  {
   "cell_type": "code",
   "execution_count": 8,
   "metadata": {
    "collapsed": false
   },
   "outputs": [],
   "source": [
    "import requests\n",
    "a = (requests.get(url))"
   ]
  },
  {
   "cell_type": "code",
   "execution_count": 12,
   "metadata": {
    "collapsed": false
   },
   "outputs": [
    {
     "name": "stdout",
     "output_type": "stream",
     "text": [
      "does not exist\n"
     ]
    }
   ],
   "source": [
    "if a.status_code == 200:\n",
    "    print('ok')\n",
    "elif a.status_code == 404:\n",
    "    print('does not exist')"
   ]
  },
  {
   "cell_type": "markdown",
   "metadata": {},
   "source": [
    "## Christoph Salomon\n",
    "\n",
    "### *notadiet Fragebogen*\n",
    "###### 10-Jahres Diabetes-Risiko: 4%\n",
    "###### Selbstbild: 3/5 (\"Menschen können sich verändern, aber nicht so sehr\")\n",
    "###### Durchhaltewillen: nicht verfügbar"
   ]
  },
  {
   "cell_type": "code",
   "execution_count": 4,
   "metadata": {
    "collapsed": false
   },
   "outputs": [
    {
     "data": {
      "text/html": [
       "<table><tr><td><img src=http://s0288.pythonanywhere.com/static/progress/669362429_wi_progress_2018-09-02.png></td><td><img src=http://s0288.pythonanywhere.com/static/food/summaries/669362429_2018-09-02.png></td></tr></table>"
      ],
      "text/plain": [
       "<IPython.core.display.HTML object>"
      ]
     },
     "metadata": {},
     "output_type": "display_data"
    }
   ],
   "source": [
    "import datetime\n",
    "from IPython.display import HTML, display\n",
    "import requests\n",
    "\n",
    "pre = \"<table><tr><td><img src=\"\n",
    "intmd = \"></td><td><img src=\"\n",
    "post = \"></td></tr></table>\"\n",
    "\n",
    "html = pre\n",
    "\n",
    "url = 'http://s0288.pythonanywhere.com/static/progress/669362429_wi_progress_2018-09-02.png'\n",
    "html = html + url + intmd\n",
    "\n",
    "url = 'http://s0288.pythonanywhere.com/static/food/summaries/669362429_2018-09-02.png'\n",
    "html = html + url + post\n",
    "\n",
    "html = HTML(html)\n",
    "display(html)"
   ]
  },
  {
   "cell_type": "code",
   "execution_count": 29,
   "metadata": {
    "collapsed": false
   },
   "outputs": [
    {
     "name": "stdout",
     "output_type": "stream",
     "text": [
      "wi_value 415604082\n"
     ]
    }
   ],
   "source": [
    "import sys #required because files in other folder\n",
    "sys.path.append('./')\n",
    "import config\n",
    "\n",
    "import sys #required because files in other folder\n",
    "sys.path.append('./classes/')\n",
    "from dbhelper import DBHelper\n",
    "\n",
    "# somehow required for pythonanywhere\n",
    "import matplotlib as mpl\n",
    "mpl.use('Agg')\n",
    "\n",
    "import matplotlib.pyplot as plt\n",
    "from matplotlib.ticker import MaxNLocator\n",
    "import matplotlib.ticker as plticker\n",
    "import numpy as np\n",
    "import pandas as pd\n",
    "import datetime\n",
    "import math\n",
    "\n",
    "db = DBHelper()\n",
    "\n",
    "def roundtoclosestfloor(x, mod, base=3):\n",
    "    if mod == 'floor':\n",
    "        return int(base * math.floor(float(x)/base))\n",
    "    elif mod == 'ceil':\n",
    "        return int(base * math.ceil(float(x)/base))\n",
    "\n",
    "def get_values_for_plot(key_value, chat_id):\n",
    "    print(key_value, chat_id)\n",
    "    data = db.get_key_values(key_value, chat_id)\n",
    "    if data:\n",
    "        iterator = []\n",
    "        xlabs = []\n",
    "        xvalues = []\n",
    "        yvalues = []\n",
    "        print('her')\n",
    "        if key_value == 'wi_value':\n",
    "            print('here')\n",
    "            for num, row in enumerate(data):\n",
    "                print('here')\n",
    "                date = row[5].date()\n",
    "                date_wo_year = row[5].date().strftime(\"%d.%m\")\n",
    "                if date not in iterator:\n",
    "                    iterator.append(str(date))\n",
    "                    xlabs.append(str(date_wo_year))\n",
    "                    xvalues.append(num)\n",
    "                    yvalues.append(float(row[4]))\n",
    "            # order the values\n",
    "            print('but here')\n",
    "            xlabs = list(reversed(xlabs))\n",
    "            yvalues = list(reversed(yvalues))\n",
    "            length_xaxis = len(yvalues)\n",
    "\n",
    "        # for fasten mood, create a breakdown of the hours\n",
    "        elif key_value == 'f_mood':\n",
    "            for num, row in enumerate(data):\n",
    "                date = row[5].date()\n",
    "                today = datetime.date.today()\n",
    "                yesterday = datetime.date.today() - datetime.timedelta(days=1)\n",
    "                if date == today or date == yesterday:\n",
    "                    hour = row[5].time().strftime(\"%H:00\")\n",
    "                    if hour not in iterator:\n",
    "                        iterator.append(str(date))\n",
    "                        xlabs.append(str(hour))\n",
    "                        xvalues.append(num)\n",
    "                        yvalues.append(float(row[4]))\n",
    "            # order the values\n",
    "            xlabs = list(reversed(xlabs))\n",
    "            yvalues = list(reversed(yvalues))\n",
    "            length_xaxis = len(yvalues)\n",
    "\n",
    "        elif key_value == 'ci_mood':\n",
    "            for num, row in enumerate(data):\n",
    "                date = row[5].date()\n",
    "                date_wo_year = row[5].date().strftime(\"%d.%m\")\n",
    "                if date not in iterator:\n",
    "                    iterator.append(str(date))\n",
    "                    xlabs.append(str(date_wo_year))\n",
    "                    xvalues.append(num)\n",
    "                    yvalues.append(float(row[4]))\n",
    "            # order and only keep the last 7 values\n",
    "            xlabs = list(xlabs)\n",
    "            yvalues = list(yvalues)\n",
    "            xlabs = xlabs[:7]\n",
    "            xvalues = xvalues[:7]\n",
    "            yvalues = yvalues[:7]\n",
    "            xlabs = list(reversed(xlabs))\n",
    "            xvalues = list(reversed(xvalues))\n",
    "            yvalues = list(reversed(yvalues))\n",
    "            length_xaxis = len(yvalues)\n",
    "    # in case a user doesn't have values (shouldn't happen)\n",
    "    else:\n",
    "        xlabs = ['29.01', '30.01', '03.02', '04.02', '05.02', '06.02', '07.02', '08.02', '09.02', '10.02', '12.02', '13.02', '14.02', '14.02', '15.02', '16.02', '17.02', '18.02', '18.02', '18.02', '19.02', '20.02', '21.02', '22.02', '23.02']\n",
    "        xvalues = [0, 1, 2, 3, 4, 5, 6, 7, 8, 9, 10, 11, 12, 13, 14, 15, 16, 17, 18, 19, 20, 21, 22, 23, 24]\n",
    "        yvalues = [77.0, 76.3, 75.6, 75.2, 74.9, 74.7, 74.7, 74.9, 74.9, 74.9, 74.2, 74.2, 73.8, 73.8, 75.6, 74.6, 74.2, 74.2, 74.2, 74.2, 74.4, 73.7, 74.1, 74.1, 73.9]\n",
    "        length_xaxis = len(yvalues)\n",
    "    return xlabs, xvalues, yvalues, length_xaxis\n",
    "\n",
    "def movingaverage(interval, window_size):\n",
    "    window = np.ones(int(window_size))/float(window_size)\n",
    "    return np.convolve(interval, window, 'valid')\n",
    "\n",
    "def create_ma(xvalues, yvalues, window_size):\n",
    "    # calculate moving average with lag window_size\n",
    "    ymav = movingaverage(yvalues, window_size)\n",
    "    # throw out those values that cannot be used for lag\n",
    "    xvalues = np.array(xvalues)\n",
    "    yvalues = np.array(yvalues)\n",
    "    plt.plot(xvalues[window_size-1:], ymav)\n",
    "\n",
    "def create_plot(key_value, user_id, xvalues, yvalues, length_xaxis, xlabels=None, ylabels=None):\n",
    "    date = datetime.datetime.now().date()\n",
    "    # setting y axis labels\n",
    "    fig, ax = plt.subplots()\n",
    "    # set dates as xaxis labels\n",
    "    from matplotlib.ticker import FuncFormatter, MaxNLocator\n",
    "    def format_fn(tick_val, tick_pos):\n",
    "        if int(tick_val) in xvalues:\n",
    "            return xlabels[int(tick_val)]\n",
    "        else:\n",
    "            return ''\n",
    "    ax.xaxis.set_major_formatter(FuncFormatter(format_fn))\n",
    "    ax.xaxis.set_major_locator(MaxNLocator(integer=True))\n",
    "    # make sure axis ticks are all shown\n",
    "    ax.xaxis.get_major_locator().set_params(nbins=length_xaxis)\n",
    "    # create plot and set achieved and achievable goal\n",
    "    plt.plot(xvalues, yvalues)\n",
    "    # define titles and intermediate goals\n",
    "    if key_value == 'wi_value':\n",
    "        xtitle = 'Datum'\n",
    "        ytitle = 'Dein Gewicht (kg)'\n",
    "        title = 'Dein Gewicht verändert sich'\n",
    "        # intermediate goal lines\n",
    "        plt.axhline(y=roundtoclosestfloor(min(yvalues), 'ceil'), color='b', linestyle='dashed')\n",
    "        plt.axhline(y=roundtoclosestfloor(min(yvalues), 'ceil')-2, color='r', linestyle='dashed')\n",
    "        # truncate x and y axis\n",
    "        ax.set_ylim(ymax=max(yvalues) + 1)\n",
    "        ax.set_ylim(ymin=min(yvalues) - 1)\n",
    "        # this locator puts ticks at regular intervals - make sure that the max axis length is 8 and min 1\n",
    "        loc = plticker.MultipleLocator(base=math.ceil(float(length_xaxis)/8))\n",
    "        ax.xaxis.set_major_locator(loc)\n",
    "    elif key_value == 'ci_mood':\n",
    "        xtitle = 'Datum'\n",
    "        ytitle = 'Deine Stimmung'\n",
    "        title = 'So hast du dich gefühlt'\n",
    "        # truncate x and y axis\n",
    "        ax.set_ylim(ymin=1)\n",
    "        # this locator puts ticks at regular intervals - make sure that the max num axis ticks is 8 and min 1\n",
    "        loc = plticker.MultipleLocator(base=math.ceil(float(length_xaxis)/8))\n",
    "        ax.xaxis.set_major_locator(loc)\n",
    "    elif key_value == 'f_mood':\n",
    "        xtitle = 'Uhrzeit'\n",
    "        ytitle = 'Deine Stimmung'\n",
    "        title = 'So hast du dich gefühlt'\n",
    "        # truncate x and y axis\n",
    "        ax.set_ylim(ymin=1)\n",
    "    # y axis ticks move in integer steps\n",
    "    ax.yaxis.set_major_locator(MaxNLocator(integer=True))\n",
    "    # rotate x axis ticks 45°\n",
    "    plt.xticks(rotation=45)\n",
    "    plt.title(title)\n",
    "    plt.xlabel(xtitle)\n",
    "    plt.ylabel(ytitle)\n",
    "    plt.show()\n",
    "#    fig.savefig('../../nad_app/static/plots/{}_{}_{}.png'.format(user_id, key_value, datetime.datetime.now().date()))\n",
    "    plt.close()\n",
    "\n",
    "def create_weight_plot(user_id, xvalues, yvalues, window_size, title):\n",
    "    # calculate moving average with lag window_size\n",
    "    if window_size == 0:\n",
    "        plt.plot(xvalues, yvalues)\n",
    "        plt.xlabel('Tage seit Start')\n",
    "        plt.ylabel('Kilo')\n",
    "        plt.title(title)\n",
    "    else:\n",
    "        ymav = pd.DataFrame(yvalues).rolling(window_size, min_periods=1).mean()\n",
    "        ystd = pd.DataFrame(yvalues).rolling(window_size, min_periods=1).std()\n",
    "\n",
    "        # create 2 axes\n",
    "        fig, ax = plt.subplots()\n",
    "\n",
    "        ax.plot(xvalues, yvalues, '.--', label='tagesaktuell')\n",
    "        ax.plot(xvalues, ymav, color='red', label='Ø über 14 Tage')\n",
    "        #ax.plot(xvalues, ymav+ystd, color='k')\n",
    "        #ax.plot(xvalues, ymav-ystd, color='k')\n",
    "\n",
    "        ax.set_xlabel('Tage seit Start')\n",
    "        ax.legend(loc=\"upper right\", borderaxespad=0.3)\n",
    "\n",
    "        plt.title(title)\n",
    "        plt.show()\n",
    "#        fig.savefig('../../nad_app/static/plots/{}_{}_{}.png'.format(user_id, key_value, datetime.datetime.now().date()))\n",
    "        plt.close()\n",
    "        return ymav\n",
    "\n",
    "\n",
    "\n",
    "# ich: 415604082\n",
    "# Mama: 495346285\n",
    "# Lui: 36718427\n",
    "# Luis: 164570223\n",
    "chat_id = 415604082\n",
    "key_value = 'wi_value'\n",
    "\n",
    "xlabs, xvalues, yvalues, length_xaxis = get_values_for_plot(key_value, chat_id)\n",
    "title = 'Deine Entwicklung - täglich und 14-Tagesdurchschnitt'\n",
    "ymav = create_weight_plot(chat_id, xvalues, yvalues, 14, title)\n"
   ]
  },
  {
   "cell_type": "code",
   "execution_count": 31,
   "metadata": {
    "collapsed": false
   },
   "outputs": [
    {
     "data": {
      "text/plain": [
       "[(460842809, 'staging_nad'), (415604082, 'Alex')]"
      ]
     },
     "execution_count": 31,
     "metadata": {},
     "output_type": "execute_result"
    }
   ],
   "source": [
    "data"
   ]
  },
  {
   "cell_type": "code",
   "execution_count": 936,
   "metadata": {
    "collapsed": false
   },
   "outputs": [
    {
     "data": {
      "text/html": [
       "<script>\n",
       "code_show=true; \n",
       "function code_toggle() {\n",
       " if (code_show){\n",
       " $('div.input').hide();\n",
       " } else {\n",
       " $('div.input').show();\n",
       " }\n",
       " code_show = !code_show\n",
       "} \n",
       "$( document ).ready(code_toggle);\n",
       "</script>\n",
       "<form action=\"javascript:code_toggle()\"><input type=\"submit\" value=\"Click here to toggle on/off the raw code.\"></form>"
      ],
      "text/plain": [
       "<IPython.core.display.HTML object>"
      ]
     },
     "execution_count": 936,
     "metadata": {},
     "output_type": "execute_result"
    }
   ],
   "source": [
    "from IPython.display import HTML\n",
    "\n",
    "HTML('''<script>\n",
    "code_show=true; \n",
    "function code_toggle() {\n",
    " if (code_show){\n",
    " $('div.input').hide();\n",
    " } else {\n",
    " $('div.input').show();\n",
    " }\n",
    " code_show = !code_show\n",
    "} \n",
    "$( document ).ready(code_toggle);\n",
    "</script>\n",
    "<form action=\"javascript:code_toggle()\"><input type=\"submit\" value=\"Click here to toggle on/off the raw code.\"></form>''')"
   ]
  }
 ],
 "metadata": {
  "kernelspec": {
   "display_name": "notadiet Py3.6",
   "language": "python",
   "name": "notadiet"
  },
  "language_info": {
   "codemirror_mode": {
    "name": "ipython",
    "version": 3
   },
   "file_extension": ".py",
   "mimetype": "text/x-python",
   "name": "python",
   "nbconvert_exporter": "python",
   "pygments_lexer": "ipython3",
   "version": "3.6.2"
  }
 },
 "nbformat": 4,
 "nbformat_minor": 2
}
